{
 "cells": [
  {
   "cell_type": "code",
   "execution_count": 1,
   "id": "0b0af046-a47f-42f8-aa28-267889ef126f",
   "metadata": {},
   "outputs": [],
   "source": [
    "import numpy as np\n",
    "import pandas as pd\n",
    "import matplotlib.pyplot as plt\n",
    "import seaborn as sns \n",
    "\n",
    "import os,json,math,time\n",
    "from yelpapi import YelpAPI\n",
    "from tqdm.notebook import tqdm_notebook"
   ]
  },
  {
   "cell_type": "code",
   "execution_count": 2,
   "id": "7c9e91aa-d862-4711-ade8-7bec46be7b38",
   "metadata": {},
   "outputs": [
    {
     "data": {
      "text/plain": [
       "dict_keys(['client-id', 'api-key'])"
      ]
     },
     "execution_count": 2,
     "metadata": {},
     "output_type": "execute_result"
    }
   ],
   "source": [
    "with open('D:\\My Documents\\Github\\data-enrichment-wk14-activity-mapping-yelp-api-results\\.secret\\yelp_api.json') as f:\n",
    "    login = json.load(f)\n",
    "login.keys()"
   ]
  },
  {
   "cell_type": "code",
   "execution_count": 15,
   "id": "29e62461-4b17-4fb2-b8fc-85ad9cd4cf35",
   "metadata": {},
   "outputs": [
    {
     "data": {
      "text/plain": [
       "<yelpapi.yelpapi.YelpAPI at 0x249ac79e620>"
      ]
     },
     "execution_count": 15,
     "metadata": {},
     "output_type": "execute_result"
    }
   ],
   "source": [
    "# instantiate the YelpAPI variable\n",
    "yelp_api = YelpAPI(login['api-key'], timeout_s = 5.0)\n",
    "yelp_api"
   ]
  },
  {
   "cell_type": "code",
   "execution_count": 4,
   "id": "7cc32caa-837f-4749-9178-e6114629329c",
   "metadata": {},
   "outputs": [],
   "source": [
    "# parameters\n",
    "LOCATION = 'NJ'\n",
    "TERM = 'Pizza'"
   ]
  },
  {
   "cell_type": "code",
   "execution_count": 5,
   "id": "63eb85f8-103c-40ed-aa0c-87f7a440346c",
   "metadata": {},
   "outputs": [
    {
     "data": {
      "text/plain": [
       "'D:/My Documents/GitHub/Stack-3/burger_results.json'"
      ]
     },
     "execution_count": 5,
     "metadata": {},
     "output_type": "execute_result"
    }
   ],
   "source": [
    "# SPecify JSON_FILE\n",
    "JSON_FILE = 'D:/My Documents/GitHub/Stack-3/burger_results.json'\n",
    "JSON_FILE"
   ]
  },
  {
   "cell_type": "code",
   "execution_count": 7,
   "id": "af66193d-7dd5-4ba0-a0f4-f63f8c092884",
   "metadata": {},
   "outputs": [],
   "source": [
    "# Create directory for JSON FILE\n",
    "folder = os.path.dirname(JSON_FILE)\n",
    "os.makedirs(folder,exist_ok = True)\n",
    "\n",
    "# save an empty list \n",
    "with open(JSON_FILE, 'w') as f:\n",
    "    json.dump([],f)"
   ]
  },
  {
   "cell_type": "code",
   "execution_count": 8,
   "id": "06b84d8d-15e2-457b-b6a2-c3785f0eac0c",
   "metadata": {},
   "outputs": [
    {
     "name": "stdout",
     "output_type": "stream",
     "text": [
      "- 0 previous results found.\n"
     ]
    }
   ],
   "source": [
    "## Load previous results and use len of results for offset\n",
    "with open(JSON_FILE,'r') as f:\n",
    "    previous_results = json.load(f)\n",
    "    \n",
    "## set offset based on previous results\n",
    "n_results = len(previous_results)\n",
    "print(f'- {n_results} previous results found.')"
   ]
  },
  {
   "cell_type": "code",
   "execution_count": 9,
   "id": "b786339d-2b8c-4bc3-b766-692f26aef55a",
   "metadata": {},
   "outputs": [
    {
     "data": {
      "text/plain": [
       "dict_keys(['businesses', 'total', 'region'])"
      ]
     },
     "execution_count": 9,
     "metadata": {},
     "output_type": "execute_result"
    }
   ],
   "source": [
    "# use our yelp_api variable's search_query method to perform our API call\n",
    "results = yelp_api.search_query(location=LOCATION,\n",
    "                                term=TERM,\n",
    "                               offset=n_results)\n",
    "results.keys()"
   ]
  },
  {
   "cell_type": "code",
   "execution_count": 10,
   "id": "a05296c4-af9e-4bee-8c0a-d1ac2dab4b5a",
   "metadata": {},
   "outputs": [
    {
     "data": {
      "text/plain": [
       "629"
      ]
     },
     "execution_count": 10,
     "metadata": {},
     "output_type": "execute_result"
    }
   ],
   "source": [
    "## How many results total?\n",
    "total_results = results['total']\n",
    "total_results"
   ]
  },
  {
   "cell_type": "code",
   "execution_count": 11,
   "id": "f2786b5d-d24a-4d45-b9c0-b72d192de835",
   "metadata": {},
   "outputs": [
    {
     "data": {
      "text/plain": [
       "20"
      ]
     },
     "execution_count": 11,
     "metadata": {},
     "output_type": "execute_result"
    }
   ],
   "source": [
    "## How many did we get the details for?\n",
    "results_per_page = len(results['businesses'])\n",
    "results_per_page"
   ]
  },
  {
   "cell_type": "code",
   "execution_count": 12,
   "id": "6e17c410-d12c-4879-8fe5-9d6614c1dd58",
   "metadata": {},
   "outputs": [
    {
     "data": {
      "text/plain": [
       "32"
      ]
     },
     "execution_count": 12,
     "metadata": {},
     "output_type": "execute_result"
    }
   ],
   "source": [
    "# Use math.ceil to round up for the total number of pages of results \n",
    "n_pages = math.ceil((results['total'] - n_results)/results_per_page)\n",
    "n_pages"
   ]
  },
  {
   "cell_type": "code",
   "execution_count": 13,
   "id": "cdc07148-f5aa-4cad-bbbe-ddad32010ff4",
   "metadata": {},
   "outputs": [],
   "source": [
    "# join new results with old list with extend and save to file\n",
    "previous_results.extend(results['businesses'])  \n",
    "with open(JSON_FILE,'w') as f:\n",
    "     json.dump(previous_results,f)"
   ]
  },
  {
   "cell_type": "code",
   "execution_count": 16,
   "id": "6319ab19-1a99-492d-9cd4-2381aaf29a06",
   "metadata": {},
   "outputs": [
    {
     "data": {
      "application/vnd.jupyter.widget-view+json": {
       "model_id": "a51bfa28a4784a49adab2340fc747e87",
       "version_major": 2,
       "version_minor": 0
      },
      "text/plain": [
       "  0%|          | 0/32 [00:00<?, ?it/s]"
      ]
     },
     "metadata": {},
     "output_type": "display_data"
    }
   ],
   "source": [
    "for i in tqdm_notebook( range(1,n_pages+1)):\n",
    "    \n",
    "    ## Read in results in progress file and check the length\n",
    "    with open(JSON_FILE, 'r') as f:\n",
    "        previous_results = json.load(f)\n",
    "    ## save number of results for to use as offset\n",
    "    n_results = len(previous_results)\n",
    "    ## use n_results as the OFFSET \n",
    "    results = yelp_api.search_query(location=LOCATION,\n",
    "                                    term=TERM, \n",
    "                                    offset=n_results)\n",
    "    \n",
    "    ## append new results and save to file\n",
    "    previous_results.extend(results['businesses'])\n",
    "    \n",
    "    with open(JSON_FILE,'w') as f:\n",
    "        json.dump(previous_results,f)\n",
    "    \n",
    "    # add a 200ms pause\n",
    "    time.sleep(.2)"
   ]
  },
  {
   "cell_type": "code",
   "execution_count": 17,
   "id": "94c132df-c4be-418c-9472-b43b015a1fd0",
   "metadata": {},
   "outputs": [
    {
     "data": {
      "text/html": [
       "<div>\n",
       "<style scoped>\n",
       "    .dataframe tbody tr th:only-of-type {\n",
       "        vertical-align: middle;\n",
       "    }\n",
       "\n",
       "    .dataframe tbody tr th {\n",
       "        vertical-align: top;\n",
       "    }\n",
       "\n",
       "    .dataframe thead th {\n",
       "        text-align: right;\n",
       "    }\n",
       "</style>\n",
       "<table border=\"1\" class=\"dataframe\">\n",
       "  <thead>\n",
       "    <tr style=\"text-align: right;\">\n",
       "      <th></th>\n",
       "      <th>id</th>\n",
       "      <th>alias</th>\n",
       "      <th>name</th>\n",
       "      <th>image_url</th>\n",
       "      <th>is_closed</th>\n",
       "      <th>url</th>\n",
       "      <th>review_count</th>\n",
       "      <th>categories</th>\n",
       "      <th>rating</th>\n",
       "      <th>coordinates</th>\n",
       "      <th>transactions</th>\n",
       "      <th>price</th>\n",
       "      <th>location</th>\n",
       "      <th>phone</th>\n",
       "      <th>display_phone</th>\n",
       "      <th>distance</th>\n",
       "    </tr>\n",
       "  </thead>\n",
       "  <tbody>\n",
       "    <tr>\n",
       "      <th>0</th>\n",
       "      <td>0E089bWgJvUl396T693rYg</td>\n",
       "      <td>mercato-tomato-pie-newark</td>\n",
       "      <td>Mercato Tomato Pie</td>\n",
       "      <td>https://s3-media1.fl.yelpcdn.com/bphoto/uKjPYn...</td>\n",
       "      <td>False</td>\n",
       "      <td>https://www.yelp.com/biz/mercato-tomato-pie-ne...</td>\n",
       "      <td>371</td>\n",
       "      <td>[{'alias': 'pizza', 'title': 'Pizza'}, {'alias...</td>\n",
       "      <td>3.8</td>\n",
       "      <td>{'latitude': 40.73486, 'longitude': -74.17068}</td>\n",
       "      <td>[pickup, delivery]</td>\n",
       "      <td>$$</td>\n",
       "      <td>{'address1': '212 Market St', 'address2': '', ...</td>\n",
       "      <td>+19734249000</td>\n",
       "      <td>(973) 424-9000</td>\n",
       "      <td>101.156843</td>\n",
       "    </tr>\n",
       "    <tr>\n",
       "      <th>1</th>\n",
       "      <td>Oh5PRqcZxYN8yH4I0_xWJQ</td>\n",
       "      <td>queen-pizza-ii-newark</td>\n",
       "      <td>Queen Pizza II</td>\n",
       "      <td>https://s3-media4.fl.yelpcdn.com/bphoto/OlH5lp...</td>\n",
       "      <td>False</td>\n",
       "      <td>https://www.yelp.com/biz/queen-pizza-ii-newark...</td>\n",
       "      <td>31</td>\n",
       "      <td>[{'alias': 'italian', 'title': 'Italian'}, {'a...</td>\n",
       "      <td>4.0</td>\n",
       "      <td>{'latitude': 40.7362442016602, 'longitude': -7...</td>\n",
       "      <td>[pickup, delivery]</td>\n",
       "      <td>$</td>\n",
       "      <td>{'address1': '48 Commerce St', 'address2': Non...</td>\n",
       "      <td>+19732421829</td>\n",
       "      <td>(973) 242-1829</td>\n",
       "      <td>235.020374</td>\n",
       "    </tr>\n",
       "    <tr>\n",
       "      <th>2</th>\n",
       "      <td>PxOwmYlSn7hNq9lcu1LLvw</td>\n",
       "      <td>burke-s-tavern-newark-2</td>\n",
       "      <td>Burke’s Tavern</td>\n",
       "      <td>https://s3-media1.fl.yelpcdn.com/bphoto/YQHcsT...</td>\n",
       "      <td>False</td>\n",
       "      <td>https://www.yelp.com/biz/burke-s-tavern-newark...</td>\n",
       "      <td>61</td>\n",
       "      <td>[{'alias': 'newamerican', 'title': 'New Americ...</td>\n",
       "      <td>4.5</td>\n",
       "      <td>{'latitude': 40.73066260491095, 'longitude': -...</td>\n",
       "      <td>[]</td>\n",
       "      <td>NaN</td>\n",
       "      <td>{'address1': '150 Lafayette St', 'address2': '...</td>\n",
       "      <td>+19734339883</td>\n",
       "      <td>(973) 433-9883</td>\n",
       "      <td>677.392164</td>\n",
       "    </tr>\n",
       "    <tr>\n",
       "      <th>3</th>\n",
       "      <td>CxHEpWA7LKB_NiLto0vHwA</td>\n",
       "      <td>arties-maplewood-2</td>\n",
       "      <td>Artie's</td>\n",
       "      <td>https://s3-media1.fl.yelpcdn.com/bphoto/5HhAN3...</td>\n",
       "      <td>False</td>\n",
       "      <td>https://www.yelp.com/biz/arties-maplewood-2?ad...</td>\n",
       "      <td>865</td>\n",
       "      <td>[{'alias': 'pizza', 'title': 'Pizza'}, {'alias...</td>\n",
       "      <td>4.4</td>\n",
       "      <td>{'latitude': 40.71902090502666, 'longitude': -...</td>\n",
       "      <td>[delivery]</td>\n",
       "      <td>$$</td>\n",
       "      <td>{'address1': '15 Newark Way', 'address2': '', ...</td>\n",
       "      <td>+19733785800</td>\n",
       "      <td>(973) 378-5800</td>\n",
       "      <td>7476.700189</td>\n",
       "    </tr>\n",
       "    <tr>\n",
       "      <th>4</th>\n",
       "      <td>wFQ_fqPGUxjLNzGXgldlhQ</td>\n",
       "      <td>ellies-bistro-newark</td>\n",
       "      <td>Ellie's Bistro</td>\n",
       "      <td>https://s3-media3.fl.yelpcdn.com/bphoto/7-VMlC...</td>\n",
       "      <td>False</td>\n",
       "      <td>https://www.yelp.com/biz/ellies-bistro-newark?...</td>\n",
       "      <td>35</td>\n",
       "      <td>[{'alias': 'bars', 'title': 'Bars'}, {'alias':...</td>\n",
       "      <td>4.4</td>\n",
       "      <td>{'latitude': 40.7322839, 'longitude': -74.1728...</td>\n",
       "      <td>[pickup, delivery]</td>\n",
       "      <td>NaN</td>\n",
       "      <td>{'address1': '20 Green St', 'address2': None, ...</td>\n",
       "      <td>+19737322385</td>\n",
       "      <td>(973) 732-2385</td>\n",
       "      <td>344.733694</td>\n",
       "    </tr>\n",
       "  </tbody>\n",
       "</table>\n",
       "</div>"
      ],
      "text/plain": [
       "                       id                      alias                name  \\\n",
       "0  0E089bWgJvUl396T693rYg  mercato-tomato-pie-newark  Mercato Tomato Pie   \n",
       "1  Oh5PRqcZxYN8yH4I0_xWJQ      queen-pizza-ii-newark      Queen Pizza II   \n",
       "2  PxOwmYlSn7hNq9lcu1LLvw    burke-s-tavern-newark-2      Burke’s Tavern   \n",
       "3  CxHEpWA7LKB_NiLto0vHwA         arties-maplewood-2             Artie's   \n",
       "4  wFQ_fqPGUxjLNzGXgldlhQ       ellies-bistro-newark      Ellie's Bistro   \n",
       "\n",
       "                                           image_url  is_closed  \\\n",
       "0  https://s3-media1.fl.yelpcdn.com/bphoto/uKjPYn...      False   \n",
       "1  https://s3-media4.fl.yelpcdn.com/bphoto/OlH5lp...      False   \n",
       "2  https://s3-media1.fl.yelpcdn.com/bphoto/YQHcsT...      False   \n",
       "3  https://s3-media1.fl.yelpcdn.com/bphoto/5HhAN3...      False   \n",
       "4  https://s3-media3.fl.yelpcdn.com/bphoto/7-VMlC...      False   \n",
       "\n",
       "                                                 url  review_count  \\\n",
       "0  https://www.yelp.com/biz/mercato-tomato-pie-ne...           371   \n",
       "1  https://www.yelp.com/biz/queen-pizza-ii-newark...            31   \n",
       "2  https://www.yelp.com/biz/burke-s-tavern-newark...            61   \n",
       "3  https://www.yelp.com/biz/arties-maplewood-2?ad...           865   \n",
       "4  https://www.yelp.com/biz/ellies-bistro-newark?...            35   \n",
       "\n",
       "                                          categories  rating  \\\n",
       "0  [{'alias': 'pizza', 'title': 'Pizza'}, {'alias...     3.8   \n",
       "1  [{'alias': 'italian', 'title': 'Italian'}, {'a...     4.0   \n",
       "2  [{'alias': 'newamerican', 'title': 'New Americ...     4.5   \n",
       "3  [{'alias': 'pizza', 'title': 'Pizza'}, {'alias...     4.4   \n",
       "4  [{'alias': 'bars', 'title': 'Bars'}, {'alias':...     4.4   \n",
       "\n",
       "                                         coordinates        transactions  \\\n",
       "0     {'latitude': 40.73486, 'longitude': -74.17068}  [pickup, delivery]   \n",
       "1  {'latitude': 40.7362442016602, 'longitude': -7...  [pickup, delivery]   \n",
       "2  {'latitude': 40.73066260491095, 'longitude': -...                  []   \n",
       "3  {'latitude': 40.71902090502666, 'longitude': -...          [delivery]   \n",
       "4  {'latitude': 40.7322839, 'longitude': -74.1728...  [pickup, delivery]   \n",
       "\n",
       "  price                                           location         phone  \\\n",
       "0    $$  {'address1': '212 Market St', 'address2': '', ...  +19734249000   \n",
       "1     $  {'address1': '48 Commerce St', 'address2': Non...  +19732421829   \n",
       "2   NaN  {'address1': '150 Lafayette St', 'address2': '...  +19734339883   \n",
       "3    $$  {'address1': '15 Newark Way', 'address2': '', ...  +19733785800   \n",
       "4   NaN  {'address1': '20 Green St', 'address2': None, ...  +19737322385   \n",
       "\n",
       "    display_phone     distance  \n",
       "0  (973) 424-9000   101.156843  \n",
       "1  (973) 242-1829   235.020374  \n",
       "2  (973) 433-9883   677.392164  \n",
       "3  (973) 378-5800  7476.700189  \n",
       "4  (973) 732-2385   344.733694  "
      ]
     },
     "metadata": {},
     "output_type": "display_data"
    },
    {
     "data": {
      "text/html": [
       "<div>\n",
       "<style scoped>\n",
       "    .dataframe tbody tr th:only-of-type {\n",
       "        vertical-align: middle;\n",
       "    }\n",
       "\n",
       "    .dataframe tbody tr th {\n",
       "        vertical-align: top;\n",
       "    }\n",
       "\n",
       "    .dataframe thead th {\n",
       "        text-align: right;\n",
       "    }\n",
       "</style>\n",
       "<table border=\"1\" class=\"dataframe\">\n",
       "  <thead>\n",
       "    <tr style=\"text-align: right;\">\n",
       "      <th></th>\n",
       "      <th>id</th>\n",
       "      <th>alias</th>\n",
       "      <th>name</th>\n",
       "      <th>image_url</th>\n",
       "      <th>is_closed</th>\n",
       "      <th>url</th>\n",
       "      <th>review_count</th>\n",
       "      <th>categories</th>\n",
       "      <th>rating</th>\n",
       "      <th>coordinates</th>\n",
       "      <th>transactions</th>\n",
       "      <th>price</th>\n",
       "      <th>location</th>\n",
       "      <th>phone</th>\n",
       "      <th>display_phone</th>\n",
       "      <th>distance</th>\n",
       "    </tr>\n",
       "  </thead>\n",
       "  <tbody>\n",
       "    <tr>\n",
       "      <th>624</th>\n",
       "      <td>6AhB6x_tiHkGAd3Ec-qg0A</td>\n",
       "      <td>trend-coffee-and-tea-house-montclair</td>\n",
       "      <td>Trend Coffee &amp; Tea House</td>\n",
       "      <td>https://s3-media4.fl.yelpcdn.com/bphoto/Y5AY4Q...</td>\n",
       "      <td>False</td>\n",
       "      <td>https://www.yelp.com/biz/trend-coffee-and-tea-...</td>\n",
       "      <td>269</td>\n",
       "      <td>[{'alias': 'coffee', 'title': 'Coffee &amp; Tea'},...</td>\n",
       "      <td>3.4</td>\n",
       "      <td>{'latitude': 40.81317, 'longitude': -74.2162}</td>\n",
       "      <td>[delivery, pickup]</td>\n",
       "      <td>$</td>\n",
       "      <td>{'address1': '411 Bloomfield Ave', 'address2':...</td>\n",
       "      <td>+19737441333</td>\n",
       "      <td>(973) 744-1333</td>\n",
       "      <td>9433.038200</td>\n",
       "    </tr>\n",
       "    <tr>\n",
       "      <th>625</th>\n",
       "      <td>GKg7RPIYxuuannbB2t9lMw</td>\n",
       "      <td>momoya-bloomfield</td>\n",
       "      <td>Momoya</td>\n",
       "      <td>https://s3-media2.fl.yelpcdn.com/bphoto/-uvjDr...</td>\n",
       "      <td>False</td>\n",
       "      <td>https://www.yelp.com/biz/momoya-bloomfield?adj...</td>\n",
       "      <td>278</td>\n",
       "      <td>[{'alias': 'sushi', 'title': 'Sushi Bars'}, {'...</td>\n",
       "      <td>3.8</td>\n",
       "      <td>{'latitude': 40.8067425, 'longitude': -74.1928...</td>\n",
       "      <td>[delivery, pickup]</td>\n",
       "      <td>$$</td>\n",
       "      <td>{'address1': '390 Broad St', 'address2': '', '...</td>\n",
       "      <td>+19737480077</td>\n",
       "      <td>(973) 748-0077</td>\n",
       "      <td>8153.372066</td>\n",
       "    </tr>\n",
       "    <tr>\n",
       "      <th>626</th>\n",
       "      <td>LjXiUafOPQnbaa7iccadHw</td>\n",
       "      <td>applebees-grill-bar-union-2</td>\n",
       "      <td>Applebee's Grill + Bar</td>\n",
       "      <td>https://s3-media2.fl.yelpcdn.com/bphoto/x4B9RP...</td>\n",
       "      <td>False</td>\n",
       "      <td>https://www.yelp.com/biz/applebees-grill-bar-u...</td>\n",
       "      <td>140</td>\n",
       "      <td>[{'alias': 'tradamerican', 'title': 'American'...</td>\n",
       "      <td>2.0</td>\n",
       "      <td>{'latitude': 40.694038, 'longitude': -74.25798}</td>\n",
       "      <td>[delivery, pickup]</td>\n",
       "      <td>$$</td>\n",
       "      <td>{'address1': '1721 Morris Ave', 'address2': No...</td>\n",
       "      <td>+19089641070</td>\n",
       "      <td>(908) 964-1070</td>\n",
       "      <td>8590.608884</td>\n",
       "    </tr>\n",
       "    <tr>\n",
       "      <th>627</th>\n",
       "      <td>BEr7Io3gaVa4i6Z1er_S7g</td>\n",
       "      <td>happy-wok-jersey-city</td>\n",
       "      <td>Happy Wok</td>\n",
       "      <td>https://s3-media2.fl.yelpcdn.com/bphoto/8JnBbh...</td>\n",
       "      <td>False</td>\n",
       "      <td>https://www.yelp.com/biz/happy-wok-jersey-city...</td>\n",
       "      <td>21</td>\n",
       "      <td>[{'alias': 'chinese', 'title': 'Chinese'}]</td>\n",
       "      <td>3.1</td>\n",
       "      <td>{'latitude': 40.7149162, 'longitude': -74.0754...</td>\n",
       "      <td>[delivery, pickup]</td>\n",
       "      <td>NaN</td>\n",
       "      <td>{'address1': '497 Martin Luther King Dr', 'add...</td>\n",
       "      <td>+12012001090</td>\n",
       "      <td>(201) 200-1090</td>\n",
       "      <td>8424.912991</td>\n",
       "    </tr>\n",
       "    <tr>\n",
       "      <th>628</th>\n",
       "      <td>ZEDFx5PDKZtw4yN8MuYnQg</td>\n",
       "      <td>subway-montclair-11</td>\n",
       "      <td>Subway</td>\n",
       "      <td>https://s3-media2.fl.yelpcdn.com/bphoto/lUBwo1...</td>\n",
       "      <td>False</td>\n",
       "      <td>https://www.yelp.com/biz/subway-montclair-11?a...</td>\n",
       "      <td>16</td>\n",
       "      <td>[{'alias': 'sandwiches', 'title': 'Sandwiches'...</td>\n",
       "      <td>2.8</td>\n",
       "      <td>{'latitude': 40.8130181072279, 'longitude': -7...</td>\n",
       "      <td>[delivery, pickup]</td>\n",
       "      <td>$</td>\n",
       "      <td>{'address1': '49 Claremont Ave', 'address2': '...</td>\n",
       "      <td>+19737444444</td>\n",
       "      <td>(973) 744-4444</td>\n",
       "      <td>9147.615670</td>\n",
       "    </tr>\n",
       "  </tbody>\n",
       "</table>\n",
       "</div>"
      ],
      "text/plain": [
       "                         id                                 alias  \\\n",
       "624  6AhB6x_tiHkGAd3Ec-qg0A  trend-coffee-and-tea-house-montclair   \n",
       "625  GKg7RPIYxuuannbB2t9lMw                     momoya-bloomfield   \n",
       "626  LjXiUafOPQnbaa7iccadHw           applebees-grill-bar-union-2   \n",
       "627  BEr7Io3gaVa4i6Z1er_S7g                 happy-wok-jersey-city   \n",
       "628  ZEDFx5PDKZtw4yN8MuYnQg                   subway-montclair-11   \n",
       "\n",
       "                         name  \\\n",
       "624  Trend Coffee & Tea House   \n",
       "625                    Momoya   \n",
       "626    Applebee's Grill + Bar   \n",
       "627                 Happy Wok   \n",
       "628                    Subway   \n",
       "\n",
       "                                             image_url  is_closed  \\\n",
       "624  https://s3-media4.fl.yelpcdn.com/bphoto/Y5AY4Q...      False   \n",
       "625  https://s3-media2.fl.yelpcdn.com/bphoto/-uvjDr...      False   \n",
       "626  https://s3-media2.fl.yelpcdn.com/bphoto/x4B9RP...      False   \n",
       "627  https://s3-media2.fl.yelpcdn.com/bphoto/8JnBbh...      False   \n",
       "628  https://s3-media2.fl.yelpcdn.com/bphoto/lUBwo1...      False   \n",
       "\n",
       "                                                   url  review_count  \\\n",
       "624  https://www.yelp.com/biz/trend-coffee-and-tea-...           269   \n",
       "625  https://www.yelp.com/biz/momoya-bloomfield?adj...           278   \n",
       "626  https://www.yelp.com/biz/applebees-grill-bar-u...           140   \n",
       "627  https://www.yelp.com/biz/happy-wok-jersey-city...            21   \n",
       "628  https://www.yelp.com/biz/subway-montclair-11?a...            16   \n",
       "\n",
       "                                            categories  rating  \\\n",
       "624  [{'alias': 'coffee', 'title': 'Coffee & Tea'},...     3.4   \n",
       "625  [{'alias': 'sushi', 'title': 'Sushi Bars'}, {'...     3.8   \n",
       "626  [{'alias': 'tradamerican', 'title': 'American'...     2.0   \n",
       "627         [{'alias': 'chinese', 'title': 'Chinese'}]     3.1   \n",
       "628  [{'alias': 'sandwiches', 'title': 'Sandwiches'...     2.8   \n",
       "\n",
       "                                           coordinates        transactions  \\\n",
       "624      {'latitude': 40.81317, 'longitude': -74.2162}  [delivery, pickup]   \n",
       "625  {'latitude': 40.8067425, 'longitude': -74.1928...  [delivery, pickup]   \n",
       "626    {'latitude': 40.694038, 'longitude': -74.25798}  [delivery, pickup]   \n",
       "627  {'latitude': 40.7149162, 'longitude': -74.0754...  [delivery, pickup]   \n",
       "628  {'latitude': 40.8130181072279, 'longitude': -7...  [delivery, pickup]   \n",
       "\n",
       "    price                                           location         phone  \\\n",
       "624     $  {'address1': '411 Bloomfield Ave', 'address2':...  +19737441333   \n",
       "625    $$  {'address1': '390 Broad St', 'address2': '', '...  +19737480077   \n",
       "626    $$  {'address1': '1721 Morris Ave', 'address2': No...  +19089641070   \n",
       "627   NaN  {'address1': '497 Martin Luther King Dr', 'add...  +12012001090   \n",
       "628     $  {'address1': '49 Claremont Ave', 'address2': '...  +19737444444   \n",
       "\n",
       "      display_phone     distance  \n",
       "624  (973) 744-1333  9433.038200  \n",
       "625  (973) 748-0077  8153.372066  \n",
       "626  (908) 964-1070  8590.608884  \n",
       "627  (201) 200-1090  8424.912991  \n",
       "628  (973) 744-4444  9147.615670  "
      ]
     },
     "metadata": {},
     "output_type": "display_data"
    }
   ],
   "source": [
    "# load results\n",
    "df = pd.read_json(JSON_FILE)\n",
    "display(df.head(), df.tail())"
   ]
  }
 ],
 "metadata": {
  "kernelspec": {
   "display_name": "Python (dojo-env)",
   "language": "python",
   "name": "dojo-env"
  },
  "language_info": {
   "codemirror_mode": {
    "name": "ipython",
    "version": 3
   },
   "file_extension": ".py",
   "mimetype": "text/x-python",
   "name": "python",
   "nbconvert_exporter": "python",
   "pygments_lexer": "ipython3",
   "version": "3.10.10"
  },
  "widgets": {
   "application/vnd.jupyter.widget-state+json": {
    "state": {
     "0028b94eb0864e18ad0a52d69134710b": {
      "model_module": "@jupyter-widgets/controls",
      "model_module_version": "2.0.0",
      "model_name": "FloatProgressModel",
      "state": {
       "bar_style": "success",
       "layout": "IPY_MODEL_512939873afd49df8f0bef8afa5df059",
       "max": 32,
       "style": "IPY_MODEL_92fffe973a8f489f8da4e0e23c2bf6d2",
       "value": 32
      }
     },
     "0905a18786a04b58ac421503aad60a3b": {
      "model_module": "@jupyter-widgets/controls",
      "model_module_version": "2.0.0",
      "model_name": "HTMLStyleModel",
      "state": {
       "description_width": "",
       "font_size": null,
       "text_color": null
      }
     },
     "136e5edcdffb4e12b457dcf13368447c": {
      "model_module": "@jupyter-widgets/controls",
      "model_module_version": "2.0.0",
      "model_name": "ProgressStyleModel",
      "state": {
       "description_width": ""
      }
     },
     "1fff009e6d8d4cb2b3a9ea7cc70c6ced": {
      "model_module": "@jupyter-widgets/base",
      "model_module_version": "2.0.0",
      "model_name": "LayoutModel",
      "state": {}
     },
     "26e764f76e0c45e6951a2549e3812dab": {
      "model_module": "@jupyter-widgets/base",
      "model_module_version": "2.0.0",
      "model_name": "LayoutModel",
      "state": {}
     },
     "2fb9c115664948e88a6ebc6b022ce1a7": {
      "model_module": "@jupyter-widgets/controls",
      "model_module_version": "2.0.0",
      "model_name": "HTMLModel",
      "state": {
       "layout": "IPY_MODEL_47e2ec5b52364d15bceda92c13b55d58",
       "style": "IPY_MODEL_0905a18786a04b58ac421503aad60a3b",
       "value": " 0/32 [00:05&lt;?, ?it/s]"
      }
     },
     "31501cebd5e747d0890de64029ae3e50": {
      "model_module": "@jupyter-widgets/controls",
      "model_module_version": "2.0.0",
      "model_name": "HTMLModel",
      "state": {
       "layout": "IPY_MODEL_a0fe04ef03fa4fe4a7f4e4266f514431",
       "style": "IPY_MODEL_738f87f66f4441988af228be78bdd644",
       "value": " 32/32 [00:33&lt;00:00,  1.24s/it]"
      }
     },
     "4693a94c1b3c40a5b33cd0f9c9793c81": {
      "model_module": "@jupyter-widgets/controls",
      "model_module_version": "2.0.0",
      "model_name": "HTMLModel",
      "state": {
       "layout": "IPY_MODEL_ebdf2e50d3e54a33be233d7434ecbb8a",
       "style": "IPY_MODEL_c148193ed7824401b93fadd98a6b3eb3",
       "value": "  0%"
      }
     },
     "47e2ec5b52364d15bceda92c13b55d58": {
      "model_module": "@jupyter-widgets/base",
      "model_module_version": "2.0.0",
      "model_name": "LayoutModel",
      "state": {}
     },
     "502f6e4afadb48db8ca23ef84a826d16": {
      "model_module": "@jupyter-widgets/controls",
      "model_module_version": "2.0.0",
      "model_name": "HTMLStyleModel",
      "state": {
       "description_width": "",
       "font_size": null,
       "text_color": null
      }
     },
     "512939873afd49df8f0bef8afa5df059": {
      "model_module": "@jupyter-widgets/base",
      "model_module_version": "2.0.0",
      "model_name": "LayoutModel",
      "state": {}
     },
     "519324af7acc4a8c83321919e9635d3d": {
      "model_module": "@jupyter-widgets/base",
      "model_module_version": "2.0.0",
      "model_name": "LayoutModel",
      "state": {}
     },
     "738f87f66f4441988af228be78bdd644": {
      "model_module": "@jupyter-widgets/controls",
      "model_module_version": "2.0.0",
      "model_name": "HTMLStyleModel",
      "state": {
       "description_width": "",
       "font_size": null,
       "text_color": null
      }
     },
     "92fffe973a8f489f8da4e0e23c2bf6d2": {
      "model_module": "@jupyter-widgets/controls",
      "model_module_version": "2.0.0",
      "model_name": "ProgressStyleModel",
      "state": {
       "description_width": ""
      }
     },
     "953ae5aede2245a9b935e6da5fa025ea": {
      "model_module": "@jupyter-widgets/controls",
      "model_module_version": "2.0.0",
      "model_name": "HTMLModel",
      "state": {
       "layout": "IPY_MODEL_1fff009e6d8d4cb2b3a9ea7cc70c6ced",
       "style": "IPY_MODEL_502f6e4afadb48db8ca23ef84a826d16",
       "value": "100%"
      }
     },
     "a0bb501aaa2f4cfaad40f69a8d6fc0e1": {
      "model_module": "@jupyter-widgets/base",
      "model_module_version": "2.0.0",
      "model_name": "LayoutModel",
      "state": {}
     },
     "a0fe04ef03fa4fe4a7f4e4266f514431": {
      "model_module": "@jupyter-widgets/base",
      "model_module_version": "2.0.0",
      "model_name": "LayoutModel",
      "state": {}
     },
     "a51bfa28a4784a49adab2340fc747e87": {
      "model_module": "@jupyter-widgets/controls",
      "model_module_version": "2.0.0",
      "model_name": "HBoxModel",
      "state": {
       "children": [
        "IPY_MODEL_953ae5aede2245a9b935e6da5fa025ea",
        "IPY_MODEL_0028b94eb0864e18ad0a52d69134710b",
        "IPY_MODEL_31501cebd5e747d0890de64029ae3e50"
       ],
       "layout": "IPY_MODEL_26e764f76e0c45e6951a2549e3812dab"
      }
     },
     "be02391908e24d8292e3fb05d4bc3500": {
      "model_module": "@jupyter-widgets/controls",
      "model_module_version": "2.0.0",
      "model_name": "FloatProgressModel",
      "state": {
       "bar_style": "danger",
       "layout": "IPY_MODEL_519324af7acc4a8c83321919e9635d3d",
       "max": 32,
       "style": "IPY_MODEL_136e5edcdffb4e12b457dcf13368447c"
      }
     },
     "c148193ed7824401b93fadd98a6b3eb3": {
      "model_module": "@jupyter-widgets/controls",
      "model_module_version": "2.0.0",
      "model_name": "HTMLStyleModel",
      "state": {
       "description_width": "",
       "font_size": null,
       "text_color": null
      }
     },
     "db86c17600254854bd9cbc79ecffca7a": {
      "model_module": "@jupyter-widgets/controls",
      "model_module_version": "2.0.0",
      "model_name": "HBoxModel",
      "state": {
       "children": [
        "IPY_MODEL_4693a94c1b3c40a5b33cd0f9c9793c81",
        "IPY_MODEL_be02391908e24d8292e3fb05d4bc3500",
        "IPY_MODEL_2fb9c115664948e88a6ebc6b022ce1a7"
       ],
       "layout": "IPY_MODEL_a0bb501aaa2f4cfaad40f69a8d6fc0e1"
      }
     },
     "ebdf2e50d3e54a33be233d7434ecbb8a": {
      "model_module": "@jupyter-widgets/base",
      "model_module_version": "2.0.0",
      "model_name": "LayoutModel",
      "state": {}
     }
    },
    "version_major": 2,
    "version_minor": 0
   }
  }
 },
 "nbformat": 4,
 "nbformat_minor": 5
}
